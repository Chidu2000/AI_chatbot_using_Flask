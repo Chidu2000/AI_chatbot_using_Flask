{
  "nbformat": 4,
  "nbformat_minor": 0,
  "metadata": {
    "colab": {
      "name": "Dog Breed Prediction.ipynb",
      "provenance": [],
      "collapsed_sections": [],
      "authorship_tag": "ABX9TyP8wvx57lka6KZ4ev88/vij",
      "include_colab_link": true
    },
    "kernelspec": {
      "name": "python3",
      "display_name": "Python 3"
    },
    "language_info": {
      "name": "python"
    },
    "gpuClass": "standard"
  },
  "cells": [
    {
      "cell_type": "markdown",
      "metadata": {
        "id": "view-in-github",
        "colab_type": "text"
      },
      "source": [
        "<a href=\"https://colab.research.google.com/github/Chidu2000/AI_chatbot_using_Flask/blob/main/Dog_Breed_Prediction.ipynb\" target=\"_parent\"><img src=\"https://colab.research.google.com/assets/colab-badge.svg\" alt=\"Open In Colab\"/></a>"
      ]
    },
    {
      "cell_type": "code",
      "execution_count": 2,
      "metadata": {
        "id": "n79HbaO-PiE4",
        "colab": {
          "resources": {
            "http://localhost:8080/nbextensions/google.colab/files.js": {
              "data": "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",
              "ok": true,
              "headers": [
                [
                  "content-type",
                  "application/javascript"
                ]
              ],
              "status": 200,
              "status_text": ""
            }
          },
          "base_uri": "https://localhost:8080/",
          "height": 90
        },
        "outputId": "8fd392e0-87d6-4304-dbe1-8ab8bda10cbc"
      },
      "outputs": [
        {
          "output_type": "display_data",
          "data": {
            "text/plain": [
              "<IPython.core.display.HTML object>"
            ],
            "text/html": [
              "\n",
              "     <input type=\"file\" id=\"files-cff582a6-a578-412a-9bda-ed7bb884ca26\" name=\"files[]\" multiple disabled\n",
              "        style=\"border:none\" />\n",
              "     <output id=\"result-cff582a6-a578-412a-9bda-ed7bb884ca26\">\n",
              "      Upload widget is only available when the cell has been executed in the\n",
              "      current browser session. Please rerun this cell to enable.\n",
              "      </output>\n",
              "      <script src=\"/nbextensions/google.colab/files.js\"></script> "
            ]
          },
          "metadata": {}
        },
        {
          "output_type": "stream",
          "name": "stdout",
          "text": [
            "Saving kaggle.json to kaggle (1).json\n"
          ]
        },
        {
          "output_type": "execute_result",
          "data": {
            "text/plain": [
              "{'kaggle.json': b'{\"username\":\"chidambarjoshi\",\"key\":\"baccbcefbe54dd3f3ce32117fcba6634\"}'}"
            ]
          },
          "metadata": {},
          "execution_count": 2
        }
      ],
      "source": [
        "# run this cell to connect to kaggle API via .json file\n",
        "from google.colab import files\n",
        "files.upload()"
      ]
    },
    {
      "cell_type": "code",
      "source": [
        "# Install Kaggle API client\n",
        "!pip install -q kaggle "
      ],
      "metadata": {
        "id": "2nKVM9cSQEPr"
      },
      "execution_count": 3,
      "outputs": []
    },
    {
      "cell_type": "code",
      "source": [
        "# kaggle API expects this to be in ~/.kaggle \n",
        "!mkdir -p ~/.kaggle \n",
        "!cp kaggle.json ~/.kaggle \n",
        "\n",
        "!chmod 600 ~/.kaggle/kaggle.json"
      ],
      "metadata": {
        "id": "vzhOq4JuQdyj"
      },
      "execution_count": 4,
      "outputs": []
    },
    {
      "cell_type": "code",
      "source": [
        "# creating directory and changing pwd\n",
        "!mkdir dog_dataset\n",
        "%cd dog_dataset"
      ],
      "metadata": {
        "colab": {
          "base_uri": "https://localhost:8080/"
        },
        "id": "DukKt33pQ-Uu",
        "outputId": "b6e4309c-e497-4892-dfef-b3713ac75025"
      },
      "execution_count": 5,
      "outputs": [
        {
          "output_type": "stream",
          "name": "stdout",
          "text": [
            "mkdir: cannot create directory ‘dog_dataset’: File exists\n",
            "/content/dog_dataset\n"
          ]
        }
      ]
    },
    {
      "cell_type": "code",
      "source": [
        "# searching dataset\n",
        "!kaggle datasets list -s dogbreedidfromcomp"
      ],
      "metadata": {
        "colab": {
          "base_uri": "https://localhost:8080/"
        },
        "id": "UWVSMdeARXgn",
        "outputId": "1c6742cb-43aa-4c7d-97a3-2b98185c83c2"
      },
      "execution_count": 6,
      "outputs": [
        {
          "output_type": "stream",
          "name": "stdout",
          "text": [
            "ref                                title                    size  lastUpdated          downloadCount  voteCount  usabilityRating  \n",
            "---------------------------------  ----------------------  -----  -------------------  -------------  ---------  ---------------  \n",
            "catherinehorng/dogbreedidfromcomp  dog-breed-id-from-comp  691MB  2020-06-26 03:09:05           1466          6  0.1764706        \n"
          ]
        }
      ]
    },
    {
      "cell_type": "code",
      "source": [
        "#dowloading dataset\n",
        "!kaggle datasets download catherinehorng/dogbreedidfromcomp\n",
        "%cd .."
      ],
      "metadata": {
        "colab": {
          "base_uri": "https://localhost:8080/"
        },
        "id": "miwsYSIKT63T",
        "outputId": "6edfdd2c-01fd-464f-a8d5-386694f4f69e"
      },
      "execution_count": 20,
      "outputs": [
        {
          "output_type": "stream",
          "name": "stdout",
          "text": [
            "Downloading dogbreedidfromcomp.zip to /content/dog_dataset\n",
            " 99% 687M/691M [00:04<00:00, 148MB/s]\n",
            "100% 691M/691M [00:04<00:00, 159MB/s]\n",
            "/content\n"
          ]
        }
      ]
    },
    {
      "cell_type": "code",
      "source": [
        "#unzip and remove unusable files\n",
        "!unzip dog_dataset/dogbreedidfromcomp.zip -d dog_dataset\n",
        "!rm dog_dataset/dogbreedidfromcomp.zip\n",
        "!rm dog_dataset/sample_submission.csv"
      ],
      "metadata": {
        "id": "rXcO_V8E09IM",
        "outputId": "0692eb8e-1bc0-4ed9-e75c-cdcdc9ad393e",
        "colab": {
          "base_uri": "https://localhost:8080/"
        }
      },
      "execution_count": 22,
      "outputs": [
        {
          "output_type": "stream",
          "name": "stdout",
          "text": [
            "unzip:  cannot find or open dog_dataset/dogbreedidfromcomp.zip, dog_dataset/dogbreedidfromcomp.zip.zip or dog_dataset/dogbreedidfromcomp.zip.ZIP.\n",
            "rm: cannot remove 'dog_dataset/dogbreedidfromcomp.zip': No such file or directory\n",
            "rm: cannot remove 'dog_dataset/sample_submission.csv': No such file or directory\n"
          ]
        }
      ]
    },
    {
      "cell_type": "code",
      "source": [
        "#importing required libraries\n",
        "import numpy as np\n",
        "import pandas as pd\n",
        "import matplotlib.pyplot as plt\n",
        "\n",
        "from tqdm import tqdm   # used for creating progress meters/bars\n",
        "from keras.preprocessing import image\n",
        "from sklearn.preprocessing import label_binarize\n",
        "from sklearn.model_selection import train_test_split\n",
        "from keras.models import Sequential\n",
        "from keras.layers import Dense,Dropout,Flatten, Conv2D , MaxPool2D\n",
        "from tensorflow.keras.optimizers import Adam"
      ],
      "metadata": {
        "id": "rSLjms0eUyqc"
      },
      "execution_count": 8,
      "outputs": []
    },
    {
      "cell_type": "code",
      "source": [
        "# Read labels.csv file and checking shape and records\n",
        "\n",
        "labels_all = pd.read_csv('/content/dog_dataset/labels.csv')\n",
        "print(labels_all.shape)\n",
        "labels_all.head()"
      ],
      "metadata": {
        "colab": {
          "base_uri": "https://localhost:8080/",
          "height": 223
        },
        "id": "U8lh2GfHWV6O",
        "outputId": "c0b00647-fdb9-4ff6-832c-84dd499ab6ca"
      },
      "execution_count": 9,
      "outputs": [
        {
          "output_type": "stream",
          "name": "stdout",
          "text": [
            "(10222, 2)\n"
          ]
        },
        {
          "output_type": "execute_result",
          "data": {
            "text/plain": [
              "                                 id             breed\n",
              "0  000bec180eb18c7604dcecc8fe0dba07       boston_bull\n",
              "1  001513dfcb2ffafc82cccf4d8bbaba97             dingo\n",
              "2  001cdf01b096e06d78e9e5112d419397          pekinese\n",
              "3  00214f311d5d2247d5dfe4fe24b2303d          bluetick\n",
              "4  0021f9ceb3235effd7fcde7f7538ed62  golden_retriever"
            ],
            "text/html": [
              "\n",
              "  <div id=\"df-2e890559-79e0-4d42-a4e7-47a9195d0767\">\n",
              "    <div class=\"colab-df-container\">\n",
              "      <div>\n",
              "<style scoped>\n",
              "    .dataframe tbody tr th:only-of-type {\n",
              "        vertical-align: middle;\n",
              "    }\n",
              "\n",
              "    .dataframe tbody tr th {\n",
              "        vertical-align: top;\n",
              "    }\n",
              "\n",
              "    .dataframe thead th {\n",
              "        text-align: right;\n",
              "    }\n",
              "</style>\n",
              "<table border=\"1\" class=\"dataframe\">\n",
              "  <thead>\n",
              "    <tr style=\"text-align: right;\">\n",
              "      <th></th>\n",
              "      <th>id</th>\n",
              "      <th>breed</th>\n",
              "    </tr>\n",
              "  </thead>\n",
              "  <tbody>\n",
              "    <tr>\n",
              "      <th>0</th>\n",
              "      <td>000bec180eb18c7604dcecc8fe0dba07</td>\n",
              "      <td>boston_bull</td>\n",
              "    </tr>\n",
              "    <tr>\n",
              "      <th>1</th>\n",
              "      <td>001513dfcb2ffafc82cccf4d8bbaba97</td>\n",
              "      <td>dingo</td>\n",
              "    </tr>\n",
              "    <tr>\n",
              "      <th>2</th>\n",
              "      <td>001cdf01b096e06d78e9e5112d419397</td>\n",
              "      <td>pekinese</td>\n",
              "    </tr>\n",
              "    <tr>\n",
              "      <th>3</th>\n",
              "      <td>00214f311d5d2247d5dfe4fe24b2303d</td>\n",
              "      <td>bluetick</td>\n",
              "    </tr>\n",
              "    <tr>\n",
              "      <th>4</th>\n",
              "      <td>0021f9ceb3235effd7fcde7f7538ed62</td>\n",
              "      <td>golden_retriever</td>\n",
              "    </tr>\n",
              "  </tbody>\n",
              "</table>\n",
              "</div>\n",
              "      <button class=\"colab-df-convert\" onclick=\"convertToInteractive('df-2e890559-79e0-4d42-a4e7-47a9195d0767')\"\n",
              "              title=\"Convert this dataframe to an interactive table.\"\n",
              "              style=\"display:none;\">\n",
              "        \n",
              "  <svg xmlns=\"http://www.w3.org/2000/svg\" height=\"24px\"viewBox=\"0 0 24 24\"\n",
              "       width=\"24px\">\n",
              "    <path d=\"M0 0h24v24H0V0z\" fill=\"none\"/>\n",
              "    <path d=\"M18.56 5.44l.94 2.06.94-2.06 2.06-.94-2.06-.94-.94-2.06-.94 2.06-2.06.94zm-11 1L8.5 8.5l.94-2.06 2.06-.94-2.06-.94L8.5 2.5l-.94 2.06-2.06.94zm10 10l.94 2.06.94-2.06 2.06-.94-2.06-.94-.94-2.06-.94 2.06-2.06.94z\"/><path d=\"M17.41 7.96l-1.37-1.37c-.4-.4-.92-.59-1.43-.59-.52 0-1.04.2-1.43.59L10.3 9.45l-7.72 7.72c-.78.78-.78 2.05 0 2.83L4 21.41c.39.39.9.59 1.41.59.51 0 1.02-.2 1.41-.59l7.78-7.78 2.81-2.81c.8-.78.8-2.07 0-2.86zM5.41 20L4 18.59l7.72-7.72 1.47 1.35L5.41 20z\"/>\n",
              "  </svg>\n",
              "      </button>\n",
              "      \n",
              "  <style>\n",
              "    .colab-df-container {\n",
              "      display:flex;\n",
              "      flex-wrap:wrap;\n",
              "      gap: 12px;\n",
              "    }\n",
              "\n",
              "    .colab-df-convert {\n",
              "      background-color: #E8F0FE;\n",
              "      border: none;\n",
              "      border-radius: 50%;\n",
              "      cursor: pointer;\n",
              "      display: none;\n",
              "      fill: #1967D2;\n",
              "      height: 32px;\n",
              "      padding: 0 0 0 0;\n",
              "      width: 32px;\n",
              "    }\n",
              "\n",
              "    .colab-df-convert:hover {\n",
              "      background-color: #E2EBFA;\n",
              "      box-shadow: 0px 1px 2px rgba(60, 64, 67, 0.3), 0px 1px 3px 1px rgba(60, 64, 67, 0.15);\n",
              "      fill: #174EA6;\n",
              "    }\n",
              "\n",
              "    [theme=dark] .colab-df-convert {\n",
              "      background-color: #3B4455;\n",
              "      fill: #D2E3FC;\n",
              "    }\n",
              "\n",
              "    [theme=dark] .colab-df-convert:hover {\n",
              "      background-color: #434B5C;\n",
              "      box-shadow: 0px 1px 3px 1px rgba(0, 0, 0, 0.15);\n",
              "      filter: drop-shadow(0px 1px 2px rgba(0, 0, 0, 0.3));\n",
              "      fill: #FFFFFF;\n",
              "    }\n",
              "  </style>\n",
              "\n",
              "      <script>\n",
              "        const buttonEl =\n",
              "          document.querySelector('#df-2e890559-79e0-4d42-a4e7-47a9195d0767 button.colab-df-convert');\n",
              "        buttonEl.style.display =\n",
              "          google.colab.kernel.accessAllowed ? 'block' : 'none';\n",
              "\n",
              "        async function convertToInteractive(key) {\n",
              "          const element = document.querySelector('#df-2e890559-79e0-4d42-a4e7-47a9195d0767');\n",
              "          const dataTable =\n",
              "            await google.colab.kernel.invokeFunction('convertToInteractive',\n",
              "                                                     [key], {});\n",
              "          if (!dataTable) return;\n",
              "\n",
              "          const docLinkHtml = 'Like what you see? Visit the ' +\n",
              "            '<a target=\"_blank\" href=https://colab.research.google.com/notebooks/data_table.ipynb>data table notebook</a>'\n",
              "            + ' to learn more about interactive tables.';\n",
              "          element.innerHTML = '';\n",
              "          dataTable['output_type'] = 'display_data';\n",
              "          await google.colab.output.renderOutput(dataTable, element);\n",
              "          const docLink = document.createElement('div');\n",
              "          docLink.innerHTML = docLinkHtml;\n",
              "          element.appendChild(docLink);\n",
              "        }\n",
              "      </script>\n",
              "    </div>\n",
              "  </div>\n",
              "  "
            ]
          },
          "metadata": {},
          "execution_count": 9
        }
      ]
    },
    {
      "cell_type": "code",
      "source": [
        "# visualize number of each breeds\n",
        "breeds_all  = labels_all['breed']\n",
        "breed_counts = breeds_all.value_counts()\n",
        "breed_counts.head()"
      ],
      "metadata": {
        "colab": {
          "base_uri": "https://localhost:8080/"
        },
        "id": "Ed8Fk0ziXIYR",
        "outputId": "01b32c5e-8224-46f5-f2c6-e2281567b915"
      },
      "execution_count": 10,
      "outputs": [
        {
          "output_type": "execute_result",
          "data": {
            "text/plain": [
              "scottish_deerhound      126\n",
              "maltese_dog             117\n",
              "afghan_hound            116\n",
              "entlebucher             115\n",
              "bernese_mountain_dog    114\n",
              "Name: breed, dtype: int64"
            ]
          },
          "metadata": {},
          "execution_count": 10
        }
      ]
    },
    {
      "cell_type": "code",
      "source": [
        "# selecting first 3 breeds(computational limitations)\n",
        "CLASS_NAMES = ['scottish_deerhound','maltese_dog','afghan_hound']\n",
        "labels = labels_all[(labels_all['breed'].isin(CLASS_NAMES))].reset_index()\n",
        "labels.head()"
      ],
      "metadata": {
        "colab": {
          "base_uri": "https://localhost:8080/",
          "height": 206
        },
        "id": "oidIVyqvX4GE",
        "outputId": "3c9a078d-987b-4bac-d91b-54cd05afae61"
      },
      "execution_count": 11,
      "outputs": [
        {
          "output_type": "execute_result",
          "data": {
            "text/plain": [
              "   index                                id               breed\n",
              "0      9  0042188c895a2f14ef64a918ed9c7b64  scottish_deerhound\n",
              "1     12  00693b8bc2470375cc744a6391d397ec         maltese_dog\n",
              "2     79  01e787576c003930f96c966f9c3e1d44  scottish_deerhound\n",
              "3     90  022b34fd8734b39995a9f38a4f3e7b6b         maltese_dog\n",
              "4    146  0379145880ad3978f9b80f0dc2c03fba        afghan_hound"
            ],
            "text/html": [
              "\n",
              "  <div id=\"df-3d57c9bd-2920-4ed5-b649-854b7a71787c\">\n",
              "    <div class=\"colab-df-container\">\n",
              "      <div>\n",
              "<style scoped>\n",
              "    .dataframe tbody tr th:only-of-type {\n",
              "        vertical-align: middle;\n",
              "    }\n",
              "\n",
              "    .dataframe tbody tr th {\n",
              "        vertical-align: top;\n",
              "    }\n",
              "\n",
              "    .dataframe thead th {\n",
              "        text-align: right;\n",
              "    }\n",
              "</style>\n",
              "<table border=\"1\" class=\"dataframe\">\n",
              "  <thead>\n",
              "    <tr style=\"text-align: right;\">\n",
              "      <th></th>\n",
              "      <th>index</th>\n",
              "      <th>id</th>\n",
              "      <th>breed</th>\n",
              "    </tr>\n",
              "  </thead>\n",
              "  <tbody>\n",
              "    <tr>\n",
              "      <th>0</th>\n",
              "      <td>9</td>\n",
              "      <td>0042188c895a2f14ef64a918ed9c7b64</td>\n",
              "      <td>scottish_deerhound</td>\n",
              "    </tr>\n",
              "    <tr>\n",
              "      <th>1</th>\n",
              "      <td>12</td>\n",
              "      <td>00693b8bc2470375cc744a6391d397ec</td>\n",
              "      <td>maltese_dog</td>\n",
              "    </tr>\n",
              "    <tr>\n",
              "      <th>2</th>\n",
              "      <td>79</td>\n",
              "      <td>01e787576c003930f96c966f9c3e1d44</td>\n",
              "      <td>scottish_deerhound</td>\n",
              "    </tr>\n",
              "    <tr>\n",
              "      <th>3</th>\n",
              "      <td>90</td>\n",
              "      <td>022b34fd8734b39995a9f38a4f3e7b6b</td>\n",
              "      <td>maltese_dog</td>\n",
              "    </tr>\n",
              "    <tr>\n",
              "      <th>4</th>\n",
              "      <td>146</td>\n",
              "      <td>0379145880ad3978f9b80f0dc2c03fba</td>\n",
              "      <td>afghan_hound</td>\n",
              "    </tr>\n",
              "  </tbody>\n",
              "</table>\n",
              "</div>\n",
              "      <button class=\"colab-df-convert\" onclick=\"convertToInteractive('df-3d57c9bd-2920-4ed5-b649-854b7a71787c')\"\n",
              "              title=\"Convert this dataframe to an interactive table.\"\n",
              "              style=\"display:none;\">\n",
              "        \n",
              "  <svg xmlns=\"http://www.w3.org/2000/svg\" height=\"24px\"viewBox=\"0 0 24 24\"\n",
              "       width=\"24px\">\n",
              "    <path d=\"M0 0h24v24H0V0z\" fill=\"none\"/>\n",
              "    <path d=\"M18.56 5.44l.94 2.06.94-2.06 2.06-.94-2.06-.94-.94-2.06-.94 2.06-2.06.94zm-11 1L8.5 8.5l.94-2.06 2.06-.94-2.06-.94L8.5 2.5l-.94 2.06-2.06.94zm10 10l.94 2.06.94-2.06 2.06-.94-2.06-.94-.94-2.06-.94 2.06-2.06.94z\"/><path d=\"M17.41 7.96l-1.37-1.37c-.4-.4-.92-.59-1.43-.59-.52 0-1.04.2-1.43.59L10.3 9.45l-7.72 7.72c-.78.78-.78 2.05 0 2.83L4 21.41c.39.39.9.59 1.41.59.51 0 1.02-.2 1.41-.59l7.78-7.78 2.81-2.81c.8-.78.8-2.07 0-2.86zM5.41 20L4 18.59l7.72-7.72 1.47 1.35L5.41 20z\"/>\n",
              "  </svg>\n",
              "      </button>\n",
              "      \n",
              "  <style>\n",
              "    .colab-df-container {\n",
              "      display:flex;\n",
              "      flex-wrap:wrap;\n",
              "      gap: 12px;\n",
              "    }\n",
              "\n",
              "    .colab-df-convert {\n",
              "      background-color: #E8F0FE;\n",
              "      border: none;\n",
              "      border-radius: 50%;\n",
              "      cursor: pointer;\n",
              "      display: none;\n",
              "      fill: #1967D2;\n",
              "      height: 32px;\n",
              "      padding: 0 0 0 0;\n",
              "      width: 32px;\n",
              "    }\n",
              "\n",
              "    .colab-df-convert:hover {\n",
              "      background-color: #E2EBFA;\n",
              "      box-shadow: 0px 1px 2px rgba(60, 64, 67, 0.3), 0px 1px 3px 1px rgba(60, 64, 67, 0.15);\n",
              "      fill: #174EA6;\n",
              "    }\n",
              "\n",
              "    [theme=dark] .colab-df-convert {\n",
              "      background-color: #3B4455;\n",
              "      fill: #D2E3FC;\n",
              "    }\n",
              "\n",
              "    [theme=dark] .colab-df-convert:hover {\n",
              "      background-color: #434B5C;\n",
              "      box-shadow: 0px 1px 3px 1px rgba(0, 0, 0, 0.15);\n",
              "      filter: drop-shadow(0px 1px 2px rgba(0, 0, 0, 0.3));\n",
              "      fill: #FFFFFF;\n",
              "    }\n",
              "  </style>\n",
              "\n",
              "      <script>\n",
              "        const buttonEl =\n",
              "          document.querySelector('#df-3d57c9bd-2920-4ed5-b649-854b7a71787c button.colab-df-convert');\n",
              "        buttonEl.style.display =\n",
              "          google.colab.kernel.accessAllowed ? 'block' : 'none';\n",
              "\n",
              "        async function convertToInteractive(key) {\n",
              "          const element = document.querySelector('#df-3d57c9bd-2920-4ed5-b649-854b7a71787c');\n",
              "          const dataTable =\n",
              "            await google.colab.kernel.invokeFunction('convertToInteractive',\n",
              "                                                     [key], {});\n",
              "          if (!dataTable) return;\n",
              "\n",
              "          const docLinkHtml = 'Like what you see? Visit the ' +\n",
              "            '<a target=\"_blank\" href=https://colab.research.google.com/notebooks/data_table.ipynb>data table notebook</a>'\n",
              "            + ' to learn more about interactive tables.';\n",
              "          element.innerHTML = '';\n",
              "          dataTable['output_type'] = 'display_data';\n",
              "          await google.colab.output.renderOutput(dataTable, element);\n",
              "          const docLink = document.createElement('div');\n",
              "          docLink.innerHTML = docLinkHtml;\n",
              "          element.appendChild(docLink);\n",
              "        }\n",
              "      </script>\n",
              "    </div>\n",
              "  </div>\n",
              "  "
            ]
          },
          "metadata": {},
          "execution_count": 11
        }
      ]
    },
    {
      "cell_type": "code",
      "source": [
        "# Creating numpy matrix with zeros\n",
        "X_data = np.zeros((len(labels),224,224,3),dtype='float32')\n",
        "\n",
        "#One hot encoding\n",
        "Y_data = label_binarize(labels['breed'],classes=CLASS_NAMES)\n",
        "\n",
        "#reading and converting images to numpy array and normalizing dataset\n",
        "for i in tqdm(range(len(labels))):\n",
        "  img = image.load_img('dog_dataset/train/%s.jpg' % labels['id'][i],target_size=(224,224))\n",
        "  img = image.img_to_array(img)\n",
        "  x = np.expand_dims(img.copy(),axis=0)\n",
        "  X_data[i] = x/255.0\n",
        "\n",
        "\n",
        "# printing train image and one hot encode shape and size\n",
        "print('\\n Train Images Shape:',X_data.shape,'size: {:,}'.format(X_data.size))\n",
        "print('One-hot encoded output shape:',Y_data.shape,'size: {:,}'.format(Y_data.size))\n",
        "\n",
        " #NOTE:  shape -> 359 images , 224*224 is the size and 3 is channels(RGB) colored images"
      ],
      "metadata": {
        "colab": {
          "base_uri": "https://localhost:8080/"
        },
        "id": "_W05M3p5bTlP",
        "outputId": "c6dfcb11-1090-4c55-f7f9-af799f8b4031"
      },
      "execution_count": 23,
      "outputs": [
        {
          "output_type": "stream",
          "name": "stderr",
          "text": [
            "100%|██████████| 359/359 [00:02<00:00, 124.19it/s]"
          ]
        },
        {
          "output_type": "stream",
          "name": "stdout",
          "text": [
            "\n",
            " Train Images Shape: (359, 224, 224, 3) size: 54,039,552\n",
            "One-hot encoded output shape: (359, 3) size: 1,077\n"
          ]
        },
        {
          "output_type": "stream",
          "name": "stderr",
          "text": [
            "\n"
          ]
        }
      ]
    },
    {
      "cell_type": "code",
      "source": [
        "# Building the model\n",
        "# Note: hyperparameter tuning-> Changing the no. of filters and parameters to obtain higher accuracy output\n",
        "# conv2D is used to create convolutional kernel with i/p layer to produce o/p tensor\n",
        "# Dense layer produces the o/p as the cross product of input and kernel\n",
        "\n",
        "model = Sequential()\n",
        "\n",
        "model.add(Conv2D(filters=64,kernel_size=(5,5),activation='relu',input_shape=(224,224,3)))\n",
        "model.add(MaxPool2D(pool_size=(2,2)))  # findouts max dominant feature in a 2*2 matrix(window defined by poolsize)\n",
        "\n",
        "model.add(Conv2D(filters=32,kernel_size=(3,3),activation='relu',kernel_regularizer='l2'))\n",
        "model.add(MaxPool2D(pool_size=(2,2)))  \n",
        "\n",
        "model.add(Conv2D(filters=16,kernel_size=(7,7),activation='relu',kernel_regularizer='l2'))\n",
        "model.add(MaxPool2D(pool_size=(2,2)))  \n",
        "\n",
        "model.add(Conv2D(filters=8,kernel_size=(5,5),activation='relu',kernel_regularizer='l2'))\n",
        "model.add(MaxPool2D(pool_size=(2,2)))  \n",
        "\n",
        "model.add(Flatten())  #flattens input and creates 1D output\n",
        "model.add(Dense(128,activation='relu',kernel_regularizer='l2'))\n",
        "model.add(Dense(64,activation='relu',kernel_regularizer='l2'))\n",
        "\n",
        "#in a multiclass classification, generally activation func will be softmax\n",
        "model.add(Dense(len(CLASS_NAMES),activation='softmax'))\n",
        "\n",
        "model.compile(loss='categorical_crossentropy',optimizer=Adam(0.0001),metrics=['accuracy'])\n",
        "\n",
        "model.summary()"
      ],
      "metadata": {
        "colab": {
          "base_uri": "https://localhost:8080/"
        },
        "id": "NoJ2lfZFfD5y",
        "outputId": "c0b1d075-bf45-42fd-c762-4d132b239a4d"
      },
      "execution_count": 13,
      "outputs": [
        {
          "output_type": "stream",
          "name": "stdout",
          "text": [
            "Model: \"sequential\"\n",
            "_________________________________________________________________\n",
            " Layer (type)                Output Shape              Param #   \n",
            "=================================================================\n",
            " conv2d (Conv2D)             (None, 220, 220, 64)      4864      \n",
            "                                                                 \n",
            " max_pooling2d (MaxPooling2D  (None, 110, 110, 64)     0         \n",
            " )                                                               \n",
            "                                                                 \n",
            " conv2d_1 (Conv2D)           (None, 108, 108, 32)      18464     \n",
            "                                                                 \n",
            " max_pooling2d_1 (MaxPooling  (None, 54, 54, 32)       0         \n",
            " 2D)                                                             \n",
            "                                                                 \n",
            " conv2d_2 (Conv2D)           (None, 48, 48, 16)        25104     \n",
            "                                                                 \n",
            " max_pooling2d_2 (MaxPooling  (None, 24, 24, 16)       0         \n",
            " 2D)                                                             \n",
            "                                                                 \n",
            " conv2d_3 (Conv2D)           (None, 20, 20, 8)         3208      \n",
            "                                                                 \n",
            " max_pooling2d_3 (MaxPooling  (None, 10, 10, 8)        0         \n",
            " 2D)                                                             \n",
            "                                                                 \n",
            " flatten (Flatten)           (None, 800)               0         \n",
            "                                                                 \n",
            " dense (Dense)               (None, 128)               102528    \n",
            "                                                                 \n",
            " dense_1 (Dense)             (None, 64)                8256      \n",
            "                                                                 \n",
            " dense_2 (Dense)             (None, 3)                 195       \n",
            "                                                                 \n",
            "=================================================================\n",
            "Total params: 162,619\n",
            "Trainable params: 162,619\n",
            "Non-trainable params: 0\n",
            "_________________________________________________________________\n"
          ]
        }
      ]
    },
    {
      "cell_type": "code",
      "source": [
        "# splitting the data set into training and testing \n",
        "X_train_and_val, X_test, Y_train_and_val, Y_test = train_test_split(X_data,Y_data,test_size=0.1)\n",
        "\n",
        "#splitting training dataset into training and validation datasets\n",
        "X_train,X_val,Y_train,Y_val = train_test_split(X_train_and_val,Y_train_and_val,test_size=0.2)"
      ],
      "metadata": {
        "id": "deEhivq3npFB"
      },
      "execution_count": 14,
      "outputs": []
    },
    {
      "cell_type": "code",
      "source": [
        "#training and model\n",
        "epochs = 70\n",
        "batch_size = 128\n",
        "\n",
        "history = model.fit(X_train, Y_train, batch_size = batch_size, epochs=epochs, validation_data=(X_val,Y_val))\n",
        "\n",
        "# during the epochs we can see how the model is performing by viewing the training and validation accuracy"
      ],
      "metadata": {
        "id": "eK8Yfu7MnnAq",
        "colab": {
          "base_uri": "https://localhost:8080/"
        },
        "outputId": "5550037c-a53d-433a-faec-de3aa106d662"
      },
      "execution_count": 24,
      "outputs": [
        {
          "output_type": "stream",
          "name": "stdout",
          "text": [
            "Epoch 1/70\n",
            "3/3 [==============================] - 33s 9s/step - loss: 4.6001 - accuracy: 0.3566 - val_loss: 4.5706 - val_accuracy: 0.3385\n",
            "Epoch 2/70\n",
            "3/3 [==============================] - 31s 8s/step - loss: 4.5645 - accuracy: 0.3566 - val_loss: 4.5353 - val_accuracy: 0.3385\n",
            "Epoch 3/70\n",
            "3/3 [==============================] - 31s 8s/step - loss: 4.5293 - accuracy: 0.3566 - val_loss: 4.5004 - val_accuracy: 0.3385\n",
            "Epoch 4/70\n",
            "3/3 [==============================] - 38s 9s/step - loss: 4.4945 - accuracy: 0.3566 - val_loss: 4.4659 - val_accuracy: 0.3385\n",
            "Epoch 5/70\n",
            "3/3 [==============================] - 32s 8s/step - loss: 4.4600 - accuracy: 0.3566 - val_loss: 4.4317 - val_accuracy: 0.3385\n",
            "Epoch 6/70\n",
            "3/3 [==============================] - 31s 8s/step - loss: 4.4259 - accuracy: 0.3566 - val_loss: 4.3979 - val_accuracy: 0.3385\n",
            "Epoch 7/70\n",
            "3/3 [==============================] - 32s 8s/step - loss: 4.3921 - accuracy: 0.3566 - val_loss: 4.3644 - val_accuracy: 0.3385\n",
            "Epoch 8/70\n",
            "3/3 [==============================] - 32s 8s/step - loss: 4.3587 - accuracy: 0.3566 - val_loss: 4.3312 - val_accuracy: 0.3385\n",
            "Epoch 9/70\n",
            "3/3 [==============================] - 31s 8s/step - loss: 4.3256 - accuracy: 0.3566 - val_loss: 4.2984 - val_accuracy: 0.3385\n",
            "Epoch 10/70\n",
            "3/3 [==============================] - 31s 8s/step - loss: 4.2929 - accuracy: 0.3566 - val_loss: 4.2660 - val_accuracy: 0.3385\n",
            "Epoch 11/70\n",
            "3/3 [==============================] - 32s 8s/step - loss: 4.2605 - accuracy: 0.3566 - val_loss: 4.2339 - val_accuracy: 0.3385\n",
            "Epoch 12/70\n",
            "3/3 [==============================] - 33s 9s/step - loss: 4.2284 - accuracy: 0.3566 - val_loss: 4.2021 - val_accuracy: 0.3385\n",
            "Epoch 13/70\n",
            "3/3 [==============================] - 31s 8s/step - loss: 4.1967 - accuracy: 0.3566 - val_loss: 4.1707 - val_accuracy: 0.3385\n",
            "Epoch 14/70\n",
            "3/3 [==============================] - 31s 8s/step - loss: 4.1653 - accuracy: 0.3566 - val_loss: 4.1396 - val_accuracy: 0.3385\n",
            "Epoch 15/70\n",
            "3/3 [==============================] - 31s 8s/step - loss: 4.1343 - accuracy: 0.3566 - val_loss: 4.1088 - val_accuracy: 0.3385\n",
            "Epoch 16/70\n",
            "3/3 [==============================] - 31s 8s/step - loss: 4.1036 - accuracy: 0.3566 - val_loss: 4.0783 - val_accuracy: 0.3385\n",
            "Epoch 17/70\n",
            "3/3 [==============================] - 31s 8s/step - loss: 4.0732 - accuracy: 0.3566 - val_loss: 4.0482 - val_accuracy: 0.3385\n",
            "Epoch 18/70\n",
            "3/3 [==============================] - 31s 8s/step - loss: 4.0431 - accuracy: 0.3566 - val_loss: 4.0184 - val_accuracy: 0.3385\n",
            "Epoch 19/70\n",
            "3/3 [==============================] - 31s 8s/step - loss: 4.0133 - accuracy: 0.3566 - val_loss: 3.9889 - val_accuracy: 0.3385\n",
            "Epoch 20/70\n",
            "3/3 [==============================] - 31s 8s/step - loss: 3.9838 - accuracy: 0.3566 - val_loss: 3.9597 - val_accuracy: 0.3385\n",
            "Epoch 21/70\n",
            "3/3 [==============================] - 31s 8s/step - loss: 3.9547 - accuracy: 0.3566 - val_loss: 3.9308 - val_accuracy: 0.3385\n",
            "Epoch 22/70\n",
            "3/3 [==============================] - 31s 8s/step - loss: 3.9258 - accuracy: 0.3566 - val_loss: 3.9022 - val_accuracy: 0.3385\n",
            "Epoch 23/70\n",
            "3/3 [==============================] - 37s 11s/step - loss: 3.8973 - accuracy: 0.3566 - val_loss: 3.8739 - val_accuracy: 0.3385\n",
            "Epoch 24/70\n",
            "3/3 [==============================] - 31s 8s/step - loss: 3.8690 - accuracy: 0.3566 - val_loss: 3.8459 - val_accuracy: 0.3385\n",
            "Epoch 25/70\n",
            "3/3 [==============================] - 33s 9s/step - loss: 3.8411 - accuracy: 0.3566 - val_loss: 3.8182 - val_accuracy: 0.3385\n",
            "Epoch 26/70\n",
            "3/3 [==============================] - 35s 9s/step - loss: 3.8134 - accuracy: 0.3566 - val_loss: 3.7907 - val_accuracy: 0.3385\n",
            "Epoch 27/70\n",
            "3/3 [==============================] - 32s 8s/step - loss: 3.7860 - accuracy: 0.3566 - val_loss: 3.7636 - val_accuracy: 0.3385\n",
            "Epoch 28/70\n",
            "3/3 [==============================] - 31s 8s/step - loss: 3.7589 - accuracy: 0.3566 - val_loss: 3.7367 - val_accuracy: 0.3385\n",
            "Epoch 29/70\n",
            "3/3 [==============================] - 32s 8s/step - loss: 3.7321 - accuracy: 0.3566 - val_loss: 3.7101 - val_accuracy: 0.3385\n",
            "Epoch 30/70\n",
            "3/3 [==============================] - 31s 8s/step - loss: 3.7055 - accuracy: 0.3566 - val_loss: 3.6838 - val_accuracy: 0.3385\n",
            "Epoch 31/70\n",
            "3/3 [==============================] - 31s 8s/step - loss: 3.6793 - accuracy: 0.3566 - val_loss: 3.6578 - val_accuracy: 0.3385\n",
            "Epoch 32/70\n",
            "3/3 [==============================] - 31s 8s/step - loss: 3.6533 - accuracy: 0.3566 - val_loss: 3.6320 - val_accuracy: 0.3385\n",
            "Epoch 33/70\n",
            "3/3 [==============================] - 31s 8s/step - loss: 3.6275 - accuracy: 0.3566 - val_loss: 3.6065 - val_accuracy: 0.3077\n",
            "Epoch 34/70\n",
            "3/3 [==============================] - 31s 8s/step - loss: 3.6021 - accuracy: 0.3217 - val_loss: 3.5812 - val_accuracy: 0.3077\n",
            "Epoch 35/70\n",
            "3/3 [==============================] - 31s 8s/step - loss: 3.5769 - accuracy: 0.3217 - val_loss: 3.5562 - val_accuracy: 0.3077\n",
            "Epoch 36/70\n",
            "3/3 [==============================] - 31s 8s/step - loss: 3.5519 - accuracy: 0.3217 - val_loss: 3.5315 - val_accuracy: 0.3077\n",
            "Epoch 37/70\n",
            "3/3 [==============================] - 31s 8s/step - loss: 3.5272 - accuracy: 0.3217 - val_loss: 3.5070 - val_accuracy: 0.3077\n",
            "Epoch 38/70\n",
            "3/3 [==============================] - 31s 8s/step - loss: 3.5028 - accuracy: 0.3217 - val_loss: 3.4828 - val_accuracy: 0.3077\n",
            "Epoch 39/70\n",
            "3/3 [==============================] - 31s 8s/step - loss: 3.4786 - accuracy: 0.3217 - val_loss: 3.4588 - val_accuracy: 0.3077\n",
            "Epoch 40/70\n",
            "3/3 [==============================] - 31s 8s/step - loss: 3.4547 - accuracy: 0.3217 - val_loss: 3.4351 - val_accuracy: 0.3077\n",
            "Epoch 41/70\n",
            "3/3 [==============================] - 31s 8s/step - loss: 3.4310 - accuracy: 0.3217 - val_loss: 3.4116 - val_accuracy: 0.3077\n",
            "Epoch 42/70\n",
            "3/3 [==============================] - 36s 11s/step - loss: 3.4075 - accuracy: 0.3217 - val_loss: 3.3883 - val_accuracy: 0.3077\n",
            "Epoch 43/70\n",
            "3/3 [==============================] - 31s 8s/step - loss: 3.3843 - accuracy: 0.3217 - val_loss: 3.3653 - val_accuracy: 0.3077\n",
            "Epoch 44/70\n",
            "3/3 [==============================] - 31s 8s/step - loss: 3.3613 - accuracy: 0.3217 - val_loss: 3.3425 - val_accuracy: 0.3077\n",
            "Epoch 45/70\n",
            "3/3 [==============================] - 32s 8s/step - loss: 3.3386 - accuracy: 0.3217 - val_loss: 3.3200 - val_accuracy: 0.3077\n",
            "Epoch 46/70\n",
            "3/3 [==============================] - 33s 9s/step - loss: 3.3161 - accuracy: 0.3217 - val_loss: 3.2977 - val_accuracy: 0.3077\n",
            "Epoch 47/70\n",
            "3/3 [==============================] - 31s 8s/step - loss: 3.2938 - accuracy: 0.3217 - val_loss: 3.2756 - val_accuracy: 0.3077\n",
            "Epoch 48/70\n",
            "3/3 [==============================] - 31s 8s/step - loss: 3.2717 - accuracy: 0.3217 - val_loss: 3.2537 - val_accuracy: 0.3077\n",
            "Epoch 49/70\n",
            "3/3 [==============================] - 31s 8s/step - loss: 3.2499 - accuracy: 0.3217 - val_loss: 3.2321 - val_accuracy: 0.3077\n",
            "Epoch 50/70\n",
            "3/3 [==============================] - 31s 8s/step - loss: 3.2283 - accuracy: 0.3217 - val_loss: 3.2107 - val_accuracy: 0.3077\n",
            "Epoch 51/70\n",
            "3/3 [==============================] - 31s 8s/step - loss: 3.2069 - accuracy: 0.3217 - val_loss: 3.1894 - val_accuracy: 0.3077\n",
            "Epoch 52/70\n",
            "3/3 [==============================] - 31s 8s/step - loss: 3.1858 - accuracy: 0.3217 - val_loss: 3.1685 - val_accuracy: 0.3077\n",
            "Epoch 53/70\n",
            "3/3 [==============================] - 31s 8s/step - loss: 3.1648 - accuracy: 0.3217 - val_loss: 3.1477 - val_accuracy: 0.3077\n",
            "Epoch 54/70\n",
            "3/3 [==============================] - 31s 8s/step - loss: 3.1441 - accuracy: 0.3217 - val_loss: 3.1271 - val_accuracy: 0.3077\n",
            "Epoch 55/70\n",
            "3/3 [==============================] - 31s 8s/step - loss: 3.1235 - accuracy: 0.3217 - val_loss: 3.1068 - val_accuracy: 0.3077\n",
            "Epoch 56/70\n",
            "3/3 [==============================] - 32s 8s/step - loss: 3.1032 - accuracy: 0.3217 - val_loss: 3.0866 - val_accuracy: 0.3077\n",
            "Epoch 57/70\n",
            "3/3 [==============================] - 31s 8s/step - loss: 3.0831 - accuracy: 0.3217 - val_loss: 3.0667 - val_accuracy: 0.3077\n",
            "Epoch 58/70\n",
            "3/3 [==============================] - 31s 8s/step - loss: 3.0632 - accuracy: 0.3217 - val_loss: 3.0470 - val_accuracy: 0.3077\n",
            "Epoch 59/70\n",
            "3/3 [==============================] - 31s 8s/step - loss: 3.0435 - accuracy: 0.3217 - val_loss: 3.0274 - val_accuracy: 0.3385\n",
            "Epoch 60/70\n",
            "3/3 [==============================] - 31s 8s/step - loss: 3.0240 - accuracy: 0.3566 - val_loss: 3.0081 - val_accuracy: 0.3385\n",
            "Epoch 61/70\n",
            "3/3 [==============================] - 31s 8s/step - loss: 3.0047 - accuracy: 0.3566 - val_loss: 2.9890 - val_accuracy: 0.3385\n",
            "Epoch 62/70\n",
            "3/3 [==============================] - 37s 8s/step - loss: 2.9856 - accuracy: 0.3566 - val_loss: 2.9700 - val_accuracy: 0.3385\n",
            "Epoch 63/70\n",
            "3/3 [==============================] - 32s 9s/step - loss: 2.9667 - accuracy: 0.3566 - val_loss: 2.9513 - val_accuracy: 0.3385\n",
            "Epoch 64/70\n",
            "3/3 [==============================] - 31s 8s/step - loss: 2.9480 - accuracy: 0.3566 - val_loss: 2.9327 - val_accuracy: 0.3385\n",
            "Epoch 65/70\n",
            "3/3 [==============================] - 31s 8s/step - loss: 2.9294 - accuracy: 0.3566 - val_loss: 2.9143 - val_accuracy: 0.3385\n",
            "Epoch 66/70\n",
            "3/3 [==============================] - 31s 8s/step - loss: 2.9111 - accuracy: 0.3566 - val_loss: 2.8962 - val_accuracy: 0.3385\n",
            "Epoch 67/70\n",
            "3/3 [==============================] - 31s 8s/step - loss: 2.8929 - accuracy: 0.3566 - val_loss: 2.8782 - val_accuracy: 0.3385\n",
            "Epoch 68/70\n",
            "3/3 [==============================] - 31s 8s/step - loss: 2.8750 - accuracy: 0.3566 - val_loss: 2.8603 - val_accuracy: 0.3385\n",
            "Epoch 69/70\n",
            "3/3 [==============================] - 31s 8s/step - loss: 2.8572 - accuracy: 0.3566 - val_loss: 2.8427 - val_accuracy: 0.3385\n",
            "Epoch 70/70\n",
            "3/3 [==============================] - 31s 8s/step - loss: 2.8396 - accuracy: 0.3566 - val_loss: 2.8253 - val_accuracy: 0.3385\n"
          ]
        }
      ]
    },
    {
      "cell_type": "code",
      "source": [
        "# plot the history\n",
        "plt.figure(figsize=(12,5))\n",
        "plt.plot(history.history['accuracy'],color='r')\n",
        "plt.plot(history.history['val_accuracy'],color='b')\n",
        "plt.title('Model Accuracy')\n",
        "plt.ylabel('Accuracy')\n",
        "plt.xlabel('Epochs')\n",
        "plt.legend(['train','val'])\n",
        "\n",
        "plt.show()"
      ],
      "metadata": {
        "colab": {
          "base_uri": "https://localhost:8080/",
          "height": 350
        },
        "id": "JNRZuypos32I",
        "outputId": "bc7cf7e8-1b3e-4b5a-ddf5-d3c6e229bae9"
      },
      "execution_count": 25,
      "outputs": [
        {
          "output_type": "display_data",
          "data": {
            "text/plain": [
              "<Figure size 864x360 with 1 Axes>"
            ],
            "image/png": "[encoded data removed]"
          },
          "metadata": {
            "needs_background": "light"
          }
        }
      ]
    },
    {
      "cell_type": "code",
      "source": [
        "# accuracy calc\n",
        "Y_pred = model.predict(X_test)\n",
        "score = model.evaluate(X_test,Y_test)\n",
        "print('Accuracy over the test set:\\n',round((score[1]*100),2),'%')"
      ],
      "metadata": {
        "colab": {
          "base_uri": "https://localhost:8080/"
        },
        "id": "msfUliCqwLrZ",
        "outputId": "758afe8a-7751-40ea-fb73-487d89370374"
      },
      "execution_count": 26,
      "outputs": [
        {
          "output_type": "stream",
          "name": "stdout",
          "text": [
            "2/2 [==============================] - 1s 144ms/step - loss: 2.8251 - accuracy: 0.3333\n",
            "Accuracy over the test set:\n",
            " 33.33 %\n"
          ]
        }
      ]
    },
    {
      "cell_type": "code",
      "source": [
        "# Plottig img to compare\n",
        "plt.imshow(X_test[1,:,:,:])\n",
        "plt.show()\n",
        "\n",
        "#finding max value from prediction list and comparing org value vs predicted\n",
        "print(\"Originally : \",labels['breed'][np.argmax(Y_test[1])])\n",
        "print(\"Predicted : \",labels['breed'][np.argmax(Y_pred[1])])"
      ],
      "metadata": {
        "colab": {
          "base_uri": "https://localhost:8080/",
          "height": 304
        },
        "id": "z3op2CALwnHw",
        "outputId": "a02ba964-cc91-4b5f-f862-9353cf22f275"
      },
      "execution_count": 27,
      "outputs": [
        {
          "output_type": "display_data",
          "data": {
            "text/plain": [
              "<Figure size 432x288 with 1 Axes>"
            ],
            "image/png": "[encoded data removed]"
          },
          "metadata": {
            "needs_background": "light"
          }
        },
        {
          "output_type": "stream",
          "name": "stdout",
          "text": [
            "Originally :  scottish_deerhound\n",
            "Predicted :  scottish_deerhound\n"
          ]
        }
      ]
    }
  ]
}